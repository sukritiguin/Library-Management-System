{
 "cells": [
  {
   "cell_type": "code",
   "execution_count": 1,
   "id": "c2095702",
   "metadata": {},
   "outputs": [
    {
     "name": "stdout",
     "output_type": "stream",
     "text": [
      "True\n",
      "False\n",
      "False\n",
      "False\n",
      "False\n",
      "True\n",
      "True\n",
      "True\n"
     ]
    }
   ],
   "source": [
    "import re\n",
    "\n",
    "def is_valid_email(email):\n",
    "    \"\"\"Check if an email is valid.\"\"\"\n",
    "    pattern = r'^[\\w\\.-]+@[\\w\\.-]+\\.\\w+$'\n",
    "    # The above regex pattern checks for the following conditions:\n",
    "    # - Starts with one or more word characters (letters, digits, or underscores)\n",
    "    # - Followed by @ symbol\n",
    "    # - Followed by one or more word characters\n",
    "    # - Followed by a dot\n",
    "    # - Ends with one or more word characters (letters, digits, or underscores)\n",
    "    # Note: This is a simple regex pattern and may not cover all valid email formats.\n",
    "    return re.match(pattern, email) is not None\n",
    "\n",
    "# Test\n",
    "email1 = \"example@example.com\"\n",
    "email2 = \"example@.com\"\n",
    "email3 = \"example@domain\"\n",
    "email4 = \"example@domain.\"\n",
    "email5 = \"example@.com.\"\n",
    "email6 = \"example@domain.com\"\n",
    "email7 = \"example123@domain.com\"\n",
    "email8 = \"example@sub.domain.com\"\n",
    "\n",
    "print(is_valid_email(email1))  # True\n",
    "print(is_valid_email(email2))  # False\n",
    "print(is_valid_email(email3))  # False\n",
    "print(is_valid_email(email4))  # False\n",
    "print(is_valid_email(email5))  # False\n",
    "print(is_valid_email(email6))  # True\n",
    "print(is_valid_email(email7))  # True\n",
    "print(is_valid_email(email8))  # True"
   ]
  },
  {
   "cell_type": "code",
   "execution_count": 5,
   "id": "6dd2e29e",
   "metadata": {},
   "outputs": [
    {
     "name": "stdout",
     "output_type": "stream",
     "text": [
      "['First Edition', 'Second Edition', '3th Edition', '4th Edition', '5th Edition', '6th Edition', '7th Edition', '8th Edition', '9th Edition', '10th Edition', '11th Edition', '12th Edition', '13th Edition', '14th Edition', '15th Edition', '16th Edition', '17th Edition', '18th Edition', '19th Edition', '20th Edition', '21th Edition', '22th Edition', '23th Edition', '24th Edition', '25th Edition', '26th Edition', '27th Edition', '28th Edition', '29th Edition', '30th Edition', '31th Edition', '32th Edition', '33th Edition', '34th Edition', '35th Edition', '36th Edition', '37th Edition', '38th Edition', '39th Edition', '40th Edition', '41th Edition', '42th Edition', '43th Edition', '44th Edition', '45th Edition', '46th Edition', '47th Edition', '48th Edition', '49th Edition', '50th Edition']\n"
     ]
    }
   ],
   "source": [
    "editions = []\n",
    "\n",
    "for i in range(1, 51):\n",
    "    if i == 1:\n",
    "        edition = 'First Edition'\n",
    "    elif i == 2:\n",
    "        edition = 'Second Edition'\n",
    "    else:\n",
    "        edition = f'{i}th Edition'\n",
    "    editions.append(edition)\n",
    "\n",
    "print(editions)"
   ]
  },
  {
   "cell_type": "code",
   "execution_count": null,
   "id": "0636b690",
   "metadata": {},
   "outputs": [],
   "source": []
  }
 ],
 "metadata": {
  "kernelspec": {
   "display_name": "virtualkernel",
   "language": "python",
   "name": "virtualkernel"
  },
  "language_info": {
   "codemirror_mode": {
    "name": "ipython",
    "version": 3
   },
   "file_extension": ".py",
   "mimetype": "text/x-python",
   "name": "python",
   "nbconvert_exporter": "python",
   "pygments_lexer": "ipython3",
   "version": "3.10.5"
  }
 },
 "nbformat": 4,
 "nbformat_minor": 5
}
